{
 "cells": [
  {
   "cell_type": "markdown",
   "metadata": {},
   "source": [
    "# Chopsticks!\n",
    "\n",
    "A few researchers set out to determine the optimal length of chopsticks for children and adults. They came up with a measure of how effective a pair of chopsticks performed, called the \"Food Pinching Performance.\" The \"Food Pinching Performance\" was determined by counting the number of peanuts picked and placed in a cup (PPPC).\n",
    "\n",
    "### An investigation for determining the optimum length of chopsticks.\n",
    "[Link to Abstract and Paper](http://www.ncbi.nlm.nih.gov/pubmed/15676839)  \n",
    "*the abstract below was adapted from the link*\n",
    "\n",
    "Chopsticks are one of the most simple and popular hand tools ever invented by humans, but have not previously been investigated by [ergonomists](https://www.google.com/search?q=ergonomists). Two laboratory studies were conducted in this research, using a [randomised complete block design](http://dawg.utk.edu/glossary/whatis_rcbd.htm), to evaluate the effects of the length of the chopsticks on the food-serving performance of adults and children. Thirty-one male junior college students and 21 primary school pupils served as subjects for the experiment to test chopsticks lengths of 180, 210, 240, 270, 300, and 330 mm. The results showed that the food-pinching performance was significantly affected by the length of the chopsticks, and that chopsticks of about 240 and 180 mm long were optimal for adults and pupils, respectively. Based on these findings, the researchers suggested that families with children should provide both 240 and 180 mm long chopsticks. In addition, restaurants could provide 210 mm long chopsticks, considering the trade-offs between ergonomics and cost.\n",
    "\n",
    "#### 1. What is the independent variable in the experiment? \n",
    "The chopstick length is the independet variable. A independet variable isn't changed by other variables but has an assumed direct effect on the dependet variable(s).\n",
    "\n",
    "#### 2. What is the dependent variable in the experiment?\n",
    "Here, the food pinching performance is the dependet variable. This variable is measured after making changes to the independet variables that are assumed to affect the dependet variable.\n",
    "\n",
    "#### 3. How is the dependent variable operationally defined?\n",
    "The number of peanuts picked and placed in a cup (PPPC).\n",
    "\n",
    "#### 4. Based on the description of the experiment and the data set, list at least two variables that you know were controlled.\n",
    "1. The age and gender of the participants are controlled variables, where the education level is a proxy for age.\n",
    "2. The size of the cup where the peanuts where place (e.g. big cup or a very high cup makes it difficult to get through)\n",
    "3. The amount of peanuts in the cup (e.g. many in a small cup might make it more easier.)\n",
    "\n",
    "Another factor, which should be controlled is if there was any previous training or use of chopsticks. This might influence the outcome heavily.\n",
    "\n",
    "#### Import Dataset and libraries"
   ]
  },
  {
   "cell_type": "code",
   "execution_count": 54,
   "metadata": {
    "collapsed": false
   },
   "outputs": [],
   "source": [
    "import pandas as pd\n",
    "from scipy import stats, integrate\n",
    "from scipy.stats import ttest_ind\n",
    "import seaborn as sns\n",
    "\n",
    "## Inline\n",
    "%matplotlib inline\n",
    "\n",
    "path = r'/home/ubuntu/notebooks/nanodegree-udacity/Analysis of chopstick length/chopstick-effectiveness.csv'\n",
    "dataFrame = pd.read_csv(path)"
   ]
  },
  {
   "cell_type": "markdown",
   "metadata": {},
   "source": [
    "#### Average of \"Food Pinching Efficiency\" for all participants and chopstick lengths\n",
    "Following block of code calculates the average \"Food Pinching Efficiency\" for all 31 participants and all chopstick lengths."
   ]
  },
  {
   "cell_type": "code",
   "execution_count": 55,
   "metadata": {
    "collapsed": false
   },
   "outputs": [
    {
     "data": {
      "text/plain": [
       "25.00559139784947"
      ]
     },
     "execution_count": 55,
     "metadata": {},
     "output_type": "execute_result"
    }
   ],
   "source": [
    "# Overall Mean of food pinching efficiency\n",
    "dataFrame['Food.Pinching.Efficiency'].mean()"
   ]
  },
  {
   "cell_type": "markdown",
   "metadata": {},
   "source": [
    "This number is helpful, but the number doesn't let us know which of the chopstick lengths performed best for the thirty-one male junior college students. Let's break down the data by chopstick length. The next block of code will generate the average \"Food Pinching Effeciency\" for each chopstick length. Run the block of code below."
   ]
  },
  {
   "cell_type": "code",
   "execution_count": 56,
   "metadata": {
    "collapsed": false
   },
   "outputs": [
    {
     "data": {
      "text/html": [
       "<div>\n",
       "<table border=\"1\" class=\"dataframe\">\n",
       "  <thead>\n",
       "    <tr style=\"text-align: right;\">\n",
       "      <th></th>\n",
       "      <th>Chopstick.Length</th>\n",
       "      <th>Food.Pinching.Efficiency</th>\n",
       "    </tr>\n",
       "  </thead>\n",
       "  <tbody>\n",
       "    <tr>\n",
       "      <th>0</th>\n",
       "      <td>180</td>\n",
       "      <td>24.935161</td>\n",
       "    </tr>\n",
       "    <tr>\n",
       "      <th>1</th>\n",
       "      <td>210</td>\n",
       "      <td>25.483871</td>\n",
       "    </tr>\n",
       "    <tr>\n",
       "      <th>2</th>\n",
       "      <td>240</td>\n",
       "      <td>26.322903</td>\n",
       "    </tr>\n",
       "    <tr>\n",
       "      <th>3</th>\n",
       "      <td>270</td>\n",
       "      <td>24.323871</td>\n",
       "    </tr>\n",
       "    <tr>\n",
       "      <th>4</th>\n",
       "      <td>300</td>\n",
       "      <td>24.968065</td>\n",
       "    </tr>\n",
       "    <tr>\n",
       "      <th>5</th>\n",
       "      <td>330</td>\n",
       "      <td>23.999677</td>\n",
       "    </tr>\n",
       "  </tbody>\n",
       "</table>\n",
       "</div>"
      ],
      "text/plain": [
       "   Chopstick.Length  Food.Pinching.Efficiency\n",
       "0               180                 24.935161\n",
       "1               210                 25.483871\n",
       "2               240                 26.322903\n",
       "3               270                 24.323871\n",
       "4               300                 24.968065\n",
       "5               330                 23.999677"
      ]
     },
     "execution_count": 56,
     "metadata": {},
     "output_type": "execute_result"
    }
   ],
   "source": [
    "## Mean of food pinching efficiency by chopstick length\n",
    "meansByChopstickLength = dataFrame.groupby('Chopstick.Length')['Food.Pinching.Efficiency'].mean().reset_index()\n",
    "meansByChopstickLength"
   ]
  },
  {
   "cell_type": "markdown",
   "metadata": {},
   "source": [
    "#### 5. Which chopstick length performed the best for the group of thirty-one male junior college students?\n",
    "\n",
    "As we only have the data set for the thiry-one male junior college stundets the plot shows that the best efficency measured (26.322903) with a chopstick length of 240mm. \n"
   ]
  },
  {
   "cell_type": "code",
   "execution_count": 62,
   "metadata": {
    "collapsed": false
   },
   "outputs": [
    {
     "name": "stdout",
     "output_type": "stream",
     "text": [
      "Populating the interactive namespace from numpy and matplotlib\n"
     ]
    },
    {
     "data": {
      "image/png": "iVBORw0KGgoAAAANSUhEUgAAAZMAAAEcCAYAAAAC+llsAAAABHNCSVQICAgIfAhkiAAAAAlwSFlz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\nq1sAAAAASUVORK5CYII=\n",
      "text/plain": [
       "<matplotlib.figure.Figure at 0x7f061cb89b50>"
      ]
     },
    },
   ],
   "source": [
    "# Causes plots to display within the notebook rather than in a new window\n",
    "%pylab inline\n",
    "\n",
    "import matplotlib.pyplot as plt\n",
    "\n",
    "lax = plt.scatter(x=meansByChopstickLength['Chopstick.Length'], y=meansByChopstickLength['Food.Pinching.Efficiency'])\n",
    "            # title=\"\")\n",
    "lax = plt.xlabel(\"Length in mm\")\n",
    "lax = plt.ylabel(\"Efficiency in PPPC\")\n",
    "lax = plt.title(\"Average Food Pinching Efficiency by Chopstick Length\")\n",
    "lax = plt.show()\n"
   ]
  },
  {
   "cell_type": "code",
   "execution_count": 58,
   "metadata": {
    "collapsed": false,
    "scrolled": true
   },
   "outputs": [
    {
     "data": {
      "image/png": "iVBORw0KGgoAAAANSUhEUgAAAYkAAAEuCAYAAAB7xO7rAAAABHNCSVQICAgIfAhkiAAAAAlwSFlz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\nSUVORK5CYII=\n",
      "text/plain": [
       "<matplotlib.figure.Figure at 0x7f061afe0350>"
      ]
     },
     "metadata": {},
     "output_type": "display_data"
    }
   ],
   "source": []
  },
  {
   "cell_type": "code",
   "execution_count": 59,
   "metadata": {
    "collapsed": false,
    "scrolled": false
   },
   "outputs": [
    {
     "name": "stdout",
     "output_type": "stream",
     "text": [
      "                        Food.Pinching.Efficiency  Individual\n",
      "Chopstick.Length                                            \n",
      "180              count                 31.000000   31.000000\n",
      "                 mean                  24.935161   16.000000\n",
      "                 std                    4.020612    9.092121\n",
      "                 min                   14.470000    1.000000\n",
      "                 25%                   22.740000    8.500000\n",
      "                 50%                   26.350000   16.000000\n",
      "                 75%                   27.910000   23.500000\n",
      "                 max                   31.190000   31.000000\n",
      "210              count                 31.000000   31.000000\n",
      "                 mean                  25.483871   16.000000\n",
      "                 std                    4.116344    9.092121\n",
      "                 min                   16.470000    1.000000\n",
      "                 25%                   23.165000    8.500000\n",
      "                 50%                   25.420000   16.000000\n",
      "                 75%                   28.960000   23.500000\n",
      "                 max                   32.550000   31.000000\n",
      "240              count                 31.000000   31.000000\n",
      "                 mean                  26.322903   16.000000\n",
      "                 std                    4.457579    9.092121\n",
      "                 min                   16.350000    1.000000\n",
      "                 25%                   22.640000    8.500000\n",
      "                 50%                   26.430000   16.000000\n",
      "                 75%                   29.375000   23.500000\n",
      "                 max                   36.150000   31.000000\n",
      "270              count                 31.000000   31.000000\n",
      "                 mean                  24.323871   16.000000\n",
      "                 std                    3.713268    9.092121\n",
      "                 min                   16.700000    1.000000\n",
      "                 25%                   22.305000    8.500000\n",
      "                 50%                   24.500000   16.000000\n",
      "                 75%                   26.085000   23.500000\n",
      "                 max                   31.150000   31.000000\n",
      "300              count                 31.000000   31.000000\n",
      "                 mean                  24.968065   16.000000\n",
      "                 std                    3.560044    9.092121\n",
      "                 min                   16.710000    1.000000\n",
      "                 25%                   23.270000    8.500000\n",
      "                 50%                   25.090000   16.000000\n",
      "                 75%                   27.620000   23.500000\n",
      "                 max                   31.070000   31.000000\n",
      "330              count                 31.000000   31.000000\n",
      "                 mean                  23.999677   16.000000\n",
      "                 std                    4.198898    9.092121\n",
      "                 min                   16.280000    1.000000\n",
      "                 25%                   21.115000    8.500000\n",
      "                 50%                   23.630000   16.000000\n",
      "                 75%                   27.230000   23.500000\n",
      "                 max                   31.690000   31.000000\n",
      "Results of Food Pinching Efficiency \n",
      "\n",
      "DescribeResult(nobs=186, minmax=(14.470000000000001, 36.149999999999999), mean=25.005591397849461, variance=16.319118837547222, skewness=-0.1945349392751938, kurtosis=-0.24949418225997144) \n",
      "\n"
     ]
    }
   ],
   "source": [
    "chopstickLength = dataFrame.groupby('Chopstick.Length')\n",
    "print chopstickLength.describe()\n",
    "\n",
    "print \"Results of Food Pinching Efficiency\", \"\\n\"\n",
    "print stats.describe(dataFrame['Food.Pinching.Efficiency']), \"\\n\""
   ]
  },
  {
   "cell_type": "markdown",
   "metadata": {},
   "source": [
    "#### 6. Based on the scatterplot created from the code above, interpret the relationship you see. What do you notice?\n",
    "Answer: There is a positive relationship between the length of a chopstick and the average food pinching efficieny (AFPE). However, it does not exist anymore for chopstick lengths above 270mm - the AFPE drops significantly after that point. 300mm shows a sudden increase (spike) and equals with around 180mm - the optimal length of chopsticks for pupils).\n",
    "\n",
    "Interestingly, the maximium food pinching efficiency (36.14999) was also measured with a chopstick length of 240.\n",
    "Also, the maximum and minimum values of the food pinching efficiency dont vary that much (+-2 on average) on the different chopstick lengths."
   ]
  },
  {
   "cell_type": "markdown",
   "metadata": {},
   "source": [
    "### In the abstract the researchers stated that their results showed food-pinching performance was significantly affected by the length of the chopsticks, and that chopsticks of about 240 mm long were optimal for adults.\n",
    "\n",
    "#### 7a. Based on the data you have analyzed, do you agree with the claim?\n",
    "Yes. \n",
    "\n",
    "#### 7b. Why?\n",
    "Because you can see on the plot that with an increasing length of the chopsticks (between 180mm and 240mm) the AFPE increases. After that (270mm) the average AFPE drops, even though 300mm chopstick length efficency equals nearly the 180mm chopstick length. Hence, after that point (270mm) an increase in of chopstick length lead to a decrease in AFPE.\n",
    " \n",
    "However, it is important to note that the age or height of the test subjects (which may differ alot) have affected the study (e.g. Study of correlation between Human height and hand length in residents of Mumbai) - depending on the used blocks in the experiement. Also maybe, some people had previous experience in using chopsticks (not the same \"skill level\").\n",
    "\n",
    "\n",
    "Without performing a statistical test it cant be determined if the effect of chopstick length makes a significant difference.\n",
    "\n",
    "### Further tests\n",
    "As we have a repeated-measures design, rather than an independent-measures design we need to account for the individual skill. For the individual post-hoc t-tests, you should also be performing repeated-measures tests. As noted by José in this post, the appropriate numpy function is ttest_rel rather than ttest_ind"
   ]
  },
  {
   "cell_type": "code",
   "execution_count": 60,
   "metadata": {
    "collapsed": false
   },
   "outputs": [
    {
     "data": {
      "text/plain": [
       "F_onewayResult(statistic=1.3209670540353464, pvalue=0.25713681077284206)"
      ]
     },
     "execution_count": 60,
     "metadata": {},
     "output_type": "execute_result"
    }
   ],
   "source": [
    "# Group by Chopstick Length data\n",
    "groups = dataFrame.groupby(\"Chopstick.Length\").groups\n",
    "\n",
    "# Etract individual groups\n",
    "chopstick_180 = dataFrame['Food.Pinching.Efficiency'][groups[180]]\n",
    "chopstick_210 = dataFrame['Food.Pinching.Efficiency'][groups[210]]\n",
    "chopstick_240 = dataFrame['Food.Pinching.Efficiency'][groups[240]]\n",
    "chopstick_270 = dataFrame['Food.Pinching.Efficiency'][groups[270]]\n",
    "chopstick_300 = dataFrame['Food.Pinching.Efficiency'][groups[300]]\n",
    "chopstick_330 = dataFrame['Food.Pinching.Efficiency'][groups[330]]\n",
    "\n",
    "# Perform the ANOVA\n",
    "stats.f_oneway(chopstick_180, chopstick_210, chopstick_240, chopstick_270, chopstick_300, chopstick_330)"
   ]
  },
  {
   "cell_type": "markdown",
   "metadata": {},
   "source": [
    "#### No significant difference\n",
    "The test output yields an F-statistic of 1.3209 and a p-value of 0.2571, indicating that there is no significant difference between the means of each group. Hence, sugessting that the the independent variable will have __no effect__ on the dependent variable.\n",
    "\n",
    "\n",
    "##### Separate t-test for each pair\n",
    "Let's perform a separate t-test for each pair of groups, just to see if there are any groups who cause different results to the above."
   ]
  },
  {
   "cell_type": "code",
   "execution_count": 61,
   "metadata": {
    "collapsed": false
   },
   "outputs": [
    {
     "name": "stdout",
     "output_type": "stream",
     "text": [
      "(180, 210)\n",
      "Ttest_relResult(statistic=-1.0483173611397067, pvalue=0.3028650165128538)\n",
      "(180, 240)\n",
      "Ttest_relResult(statistic=-2.24440624470212, pvalue=0.032336324288721227)\n",
      "(180, 270)\n",
      "Ttest_relResult(statistic=0.97370843002409868, pvalue=0.3379876387691364)\n",
      "(180, 300)\n",
      "Ttest_relResult(statistic=-0.0619368601489272, pvalue=0.9510239275253356)\n",
      "(210, 240)\n",
      "Ttest_relResult(statistic=-1.471196708110212, pvalue=0.15165051123402115)\n",
      "(210, 270)\n",
      "Ttest_relResult(statistic=3.3113716523958194, pvalue=0.002426312468200287)\n",
      "(210, 300)\n",
      "Ttest_relResult(statistic=1.0088020889112908, pvalue=0.32113737353552696)\n",
      "(240, 270)\n",
      "Ttest_relResult(statistic=3.2713431185191211, pvalue=0.0026927288568238728)\n",
      "(240, 300)\n",
      "Ttest_relResult(statistic=2.5038380080520968, pvalue=0.017954676595846569)\n",
      "(270, 300)\n",
      "Ttest_relResult(statistic=-1.3087818678092615, pvalue=0.20054590350843499)\n"
     ]
    }
   ],
   "source": [
    "# Get all chop_pairs\n",
    "chops =   [180, 210, 240, 270, 300, 330]\n",
    "chop_pairs = []\n",
    "\n",
    "for chop1 in range(4):\n",
    "    for chop2  in range(chop1+1,5):\n",
    "        chop_pairs.append((chops[chop1], chops[chop2]))\n",
    "\n",
    "# Conduct t-test on each pair\n",
    "for chop1, chop2 in chop_pairs: \n",
    "    print(chop1, chop2)\n",
    "    print(stats.ttest_rel(dataFrame['Food.Pinching.Efficiency'][groups[chop1]], \n",
    "                          dataFrame['Food.Pinching.Efficiency'][groups[chop2]]))   "
   ]
  },
  {
   "cell_type": "markdown",
   "metadata": {},
   "source": [
    "240/270 show a close to siginifcant pvalue (0.05) but he difference from the mean is still quite high. (1.91)"
   ]
  },
  {
   "cell_type": "code",
   "execution_count": null,
   "metadata": {
    "collapsed": true
   },
   "outputs": [],
   "source": []
  }
 ],
 "metadata": {
  "kernelspec": {
   "display_name": "Python 2",
   "language": "python",
   "name": "python2"
  },
  "language_info": {
   "codemirror_mode": {
    "name": "ipython",
    "version": 2
   },
   "file_extension": ".py",
   "mimetype": "text/x-python",
   "name": "python",
   "nbconvert_exporter": "python",
   "pygments_lexer": "ipython2",
   "version": "2.7.11"
  }
 },
 "nbformat": 4,
 "nbformat_minor": 0
}
